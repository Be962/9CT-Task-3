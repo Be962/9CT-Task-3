{
 "cells": [
  {
   "cell_type": "code",
   "execution_count": null,
   "id": "147fc135",
   "metadata": {},
   "outputs": [
    {
     "data": {
      "text/plain": [
       "np.float64(32.62253656526814)"
      ]
     },
     "execution_count": 48,
     "metadata": {},
     "output_type": "execute_result"
    }
   ],
   "source": [
    "import pandas as pd\n",
    "import numpy as np\n",
    "import matplotlib as plt\n",
    "df = pd.read_csv('2010s.csv')\n",
    "runs = df.iloc[:,2]\n",
    "all_runs = df['Runs'].sum()\n",
    "all_wickets = df['Wickets'].sum()\n",
    "all_runs / all_wickets"
   ]
  },
  {
   "cell_type": "code",
   "execution_count": null,
   "id": "c689ae02",
   "metadata": {},
   "outputs": [],
   "source": []
  }
 ],
 "metadata": {
  "kernelspec": {
   "display_name": "Python 3",
   "language": "python",
   "name": "python3"
  },
  "language_info": {
   "codemirror_mode": {
    "name": "ipython",
    "version": 3
   },
   "file_extension": ".py",
   "mimetype": "text/x-python",
   "name": "python",
   "nbconvert_exporter": "python",
   "pygments_lexer": "ipython3",
   "version": "3.13.5"
  }
 },
 "nbformat": 4,
 "nbformat_minor": 5
}
